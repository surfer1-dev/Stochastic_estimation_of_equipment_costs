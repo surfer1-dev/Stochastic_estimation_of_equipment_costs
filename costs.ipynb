{
 "cells": [
  {
   "cell_type": "markdown",
   "metadata": {
    "deletable": true,
    "editable": true
   },
   "source": [
    "# Stochastic estimation of equipment costs"
   ]
  },
  {
   "cell_type": "markdown",
   "metadata": {
    "deletable": true,
    "editable": true
   },
   "source": [
    "by A. zayer\n",
    "\n",
    "### Purpose:\n",
    "\n",
    "Estimation of equipment costs that are part of a project bid.\n",
    "\n",
    "Find a realistic price not too high to get the project and not too low to keep a healthy margin profit.\n",
    "\n"
   ]
  },
  {
   "cell_type": "code",
   "execution_count": 1,
   "metadata": {
    "collapsed": true,
    "deletable": true,
    "editable": true
   },
   "outputs": [],
   "source": [
    "%matplotlib inline\n",
    "import numpy as np\n",
    "import pymc3 as pm\n",
    "import pandas as pd\n",
    "import seaborn as sns\n",
    "sns.set(color_codes=True)\n",
    "import matplotlib.pyplot as plt\n",
    "from scipy import stats\n",
    "import theano\n",
    "from pymc3 import Model, Normal, HalfNormal\n",
    "from pymc3 import traceplot\n",
    "from pymc3 import summary"
   ]
  },
  {
   "cell_type": "markdown",
   "metadata": {
    "deletable": true,
    "editable": true
   },
   "source": [
    "The total cost is made up of the following elements:\n",
    "\n",
    " **Equipment cost**: \n",
    "\n",
    "From 30,000 up to 50,000\n",
    "\n",
    "\n",
    "  **Spare parts cost  for 5 years**:\n",
    "  \n",
    "From 16000 to 18000\n",
    "\n",
    "Each year is sampled separately from the normal distribution.\n",
    "\n",
    " **Maintenance Charges for 5 years**:\n",
    "\n",
    "Annual rate of 12% of the equipment price (not including the spares)."
   ]
  },
  {
   "cell_type": "code",
   "execution_count": 2,
   "metadata": {
    "collapsed": true,
    "deletable": true,
    "editable": true
   },
   "outputs": [],
   "source": [
    "n_years = 5\n",
    "maint_rate = 0.12\n"
   ]
  },
  {
   "cell_type": "markdown",
   "metadata": {
    "deletable": true,
    "editable": true
   },
   "source": [
    "**Total Cost = Equipment + Spares + Maintenance**\n",
    "\n",
    "Where\n",
    "\n",
    "**Spares = Spares for Year 1 + Spares for Year 2 + Spares for Year 3 + Spares for Year 4 + Spares for Year 5**\n",
    "\n",
    "**Maintenance = Equipment \\* Maintenance Rate \\* Number of Years**\n",
    "\n",
    "The objective of this simulation is to vary the price of the equipment and spares by drawing samples from the normal distribution"
   ]
  },
  {
   "cell_type": "code",
   "execution_count": null,
   "metadata": {
    "collapsed": false,
    "deletable": true,
    "editable": true
   },
   "outputs": [],
   "source": [
    "model = Model()\n",
    "\n",
    "with model:\n",
    "    \n",
    "    # Priors for unknown model parameters\n",
    "    equip = Normal('equip', mu=40000, sd=4)\n",
    "    spare1 = Normal('spare1', mu=17000, sd=500)\n",
    "    spare2 = Normal('spare2', mu=17000, sd=500)\n",
    "    spare3 = Normal('spare3', mu=17500, sd=500)\n",
    "    spare4 = Normal('spare4', mu=17500, sd=500)\n",
    "    spare5 = Normal('spare5', mu=18000, sd=500)\n",
    "    main = pm.Deterministic('Maintenance', equip*maint_rate*n_years)\n",
    "    Cost = pm.Deterministic('Total Cost', main+equip+(spare1+spare2+spare3+spare4+spare5))"
   ]
  },
  {
   "cell_type": "code",
   "execution_count": null,
   "metadata": {
    "collapsed": false,
    "deletable": true,
    "editable": true
   },
   "outputs": [
    {
     "name": "stderr",
     "output_type": "stream",
     "text": [
      "Auto-assigning NUTS sampler...\n",
      "Initializing NUTS using advi...\n",
      "Average ELBO = -0.045126:  39%|███▉      | 78562/200000 [00:07<00:09, 12388.88it/s]"
     ]
    }
   ],
   "source": [
    "with model:\n",
    "    trace = pm.sample(2000)"
   ]
  },
  {
   "cell_type": "code",
   "execution_count": null,
   "metadata": {
    "collapsed": false,
    "deletable": true,
    "editable": true
   },
   "outputs": [],
   "source": [
    "traceplot(trace);"
   ]
  },
  {
   "cell_type": "code",
   "execution_count": null,
   "metadata": {
    "collapsed": false,
    "deletable": true,
    "editable": true,
    "scrolled": false
   },
   "outputs": [],
   "source": [
    "summary(trace)"
   ]
  },
  {
   "cell_type": "code",
   "execution_count": null,
   "metadata": {
    "collapsed": true,
    "deletable": true,
    "editable": true
   },
   "outputs": [],
   "source": []
  }
 ],
 "metadata": {
  "kernelspec": {
   "display_name": "Python 3",
   "language": "python",
   "name": "python3"
  },
  "language_info": {
   "codemirror_mode": {
    "name": "ipython",
    "version": 3
   },
   "file_extension": ".py",
   "mimetype": "text/x-python",
   "name": "python",
   "nbconvert_exporter": "python",
   "pygments_lexer": "ipython3",
   "version": "3.6.0"
  }
 },
 "nbformat": 4,
 "nbformat_minor": 2
}
